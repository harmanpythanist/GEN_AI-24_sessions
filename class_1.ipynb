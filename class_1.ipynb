{
 "cells": [
  {
   "cell_type": "markdown",
   "id": "e914cf92-2a8f-4dde-ad2f-adebf52345f3",
   "metadata": {},
   "source": [
    "## Variables"
   ]
  },
  {
   "cell_type": "code",
   "execution_count": 1,
   "id": "4acdf9ea-d364-4269-8177-c454c94429a4",
   "metadata": {},
   "outputs": [
    {
     "name": "stdout",
     "output_type": "stream",
     "text": [
      "Hi\n"
     ]
    }
   ],
   "source": [
    "print('Hi')"
   ]
  },
  {
   "cell_type": "code",
   "execution_count": 2,
   "id": "ef4f3878-b634-421a-a49b-3f16260c1e10",
   "metadata": {},
   "outputs": [
    {
     "data": {
      "text/plain": [
       "11"
      ]
     },
     "execution_count": 2,
     "metadata": {},
     "output_type": "execute_result"
    }
   ],
   "source": [
    "5 + 6"
   ]
  },
  {
   "cell_type": "code",
   "execution_count": 3,
   "id": "94fb2ddb-0a80-4be7-81b4-ed09dc5f75fa",
   "metadata": {},
   "outputs": [],
   "source": [
    "num1 = 5\n",
    "num2 = 6"
   ]
  },
  {
   "cell_type": "code",
   "execution_count": 4,
   "id": "73ca392b-ad96-4f1f-956c-04d956237f97",
   "metadata": {},
   "outputs": [
    {
     "name": "stdout",
     "output_type": "stream",
     "text": [
      "5\n"
     ]
    }
   ],
   "source": [
    "print(num1)"
   ]
  },
  {
   "cell_type": "code",
   "execution_count": 5,
   "id": "ad375675-6fe2-47fa-bf4e-391ee03ccc21",
   "metadata": {},
   "outputs": [
    {
     "name": "stdout",
     "output_type": "stream",
     "text": [
      "6\n"
     ]
    }
   ],
   "source": [
    "print(num2)"
   ]
  },
  {
   "cell_type": "code",
   "execution_count": 6,
   "id": "41c908b6-8856-44d2-b4b0-9b2e754adc50",
   "metadata": {},
   "outputs": [
    {
     "name": "stdout",
     "output_type": "stream",
     "text": [
      "num1\n"
     ]
    }
   ],
   "source": [
    "print('num1')"
   ]
  },
  {
   "cell_type": "code",
   "execution_count": 7,
   "id": "09696303-226c-4712-b5a1-9eec0d3acdb4",
   "metadata": {},
   "outputs": [
    {
     "ename": "NameError",
     "evalue": "name 'Hi' is not defined",
     "output_type": "error",
     "traceback": [
      "\u001b[1;31m---------------------------------------------------------------------------\u001b[0m",
      "\u001b[1;31mNameError\u001b[0m                                 Traceback (most recent call last)",
      "Cell \u001b[1;32mIn[7], line 1\u001b[0m\n\u001b[1;32m----> 1\u001b[0m \u001b[38;5;28mprint\u001b[39m(Hi)\n",
      "\u001b[1;31mNameError\u001b[0m: name 'Hi' is not defined"
     ]
    }
   ],
   "source": [
    "print(Hi)"
   ]
  },
  {
   "cell_type": "code",
   "execution_count": 9,
   "id": "289d381c-2ae7-4c68-93e1-99cb467c2455",
   "metadata": {},
   "outputs": [
    {
     "name": "stdout",
     "output_type": "stream",
     "text": [
      "Hi\n",
      "10\n",
      "Hi\n"
     ]
    }
   ],
   "source": [
    "print('Hi')\n",
    "\n",
    "Hi = 10\n",
    "print(Hi)\n",
    "print('Hi')\n"
   ]
  },
  {
   "cell_type": "code",
   "execution_count": 10,
   "id": "d9b5745f-f65e-484d-9c2f-cf6bd26beca6",
   "metadata": {},
   "outputs": [],
   "source": [
    "Hi = 'Hi'"
   ]
  },
  {
   "cell_type": "code",
   "execution_count": 12,
   "id": "1155025a-fc33-408a-b9ef-2f35b6bf6e5a",
   "metadata": {},
   "outputs": [
    {
     "name": "stdout",
     "output_type": "stream",
     "text": [
      "Hi\n",
      "Hi\n"
     ]
    }
   ],
   "source": [
    "print(Hi)\n",
    "print('Hi')"
   ]
  },
  {
   "cell_type": "code",
   "execution_count": 7,
   "id": "6b5a653c-3833-496f-9a21-87adb002737f",
   "metadata": {},
   "outputs": [],
   "source": [
    "alpha1 = 'Class of'\n",
    "alpha2 = ' Artificial intelligence'"
   ]
  },
  {
   "cell_type": "code",
   "execution_count": 8,
   "id": "4ded8456-8114-4e76-9b37-dad5e02af510",
   "metadata": {},
   "outputs": [
    {
     "data": {
      "text/plain": [
       "'Class of Artificial intelligence'"
      ]
     },
     "execution_count": 8,
     "metadata": {},
     "output_type": "execute_result"
    }
   ],
   "source": [
    "alpha1 + alpha2"
   ]
  },
  {
   "cell_type": "markdown",
   "id": "70fceaef-3731-4631-9b69-f16d32537b7a",
   "metadata": {},
   "source": [
    "# Data types"
   ]
  },
  {
   "cell_type": "code",
   "execution_count": 20,
   "id": "1af099a8-2d04-4386-9359-26f38c2e5a6f",
   "metadata": {},
   "outputs": [
    {
     "data": {
      "text/plain": [
       "str"
      ]
     },
     "execution_count": 20,
     "metadata": {},
     "output_type": "execute_result"
    }
   ],
   "source": [
    "type(alpha1)"
   ]
  },
  {
   "cell_type": "code",
   "execution_count": 21,
   "id": "322dbead-3f49-4b1c-82f9-5c9e64b19107",
   "metadata": {},
   "outputs": [
    {
     "data": {
      "text/plain": [
       "int"
      ]
     },
     "execution_count": 21,
     "metadata": {},
     "output_type": "execute_result"
    }
   ],
   "source": [
    "num3 = 20\n",
    "\n",
    "type(num3)"
   ]
  },
  {
   "cell_type": "code",
   "execution_count": 22,
   "id": "1a87062b-6635-4ad5-a2e0-713674213124",
   "metadata": {},
   "outputs": [
    {
     "data": {
      "text/plain": [
       "str"
      ]
     },
     "execution_count": 22,
     "metadata": {},
     "output_type": "execute_result"
    }
   ],
   "source": [
    "num4 = '25'\n",
    "\n",
    "type(num4)"
   ]
  },
  {
   "cell_type": "code",
   "execution_count": 1,
   "id": "f1518530-ef59-441b-97d0-077c8f7a1a94",
   "metadata": {},
   "outputs": [
    {
     "ename": "NameError",
     "evalue": "name 'num4' is not defined",
     "output_type": "error",
     "traceback": [
      "\u001b[1;31m---------------------------------------------------------------------------\u001b[0m",
      "\u001b[1;31mNameError\u001b[0m                                 Traceback (most recent call last)",
      "Cell \u001b[1;32mIn[1], line 1\u001b[0m\n\u001b[1;32m----> 1\u001b[0m \u001b[38;5;28mprint\u001b[39m(num4)\n",
      "\u001b[1;31mNameError\u001b[0m: name 'num4' is not defined"
     ]
    }
   ],
   "source": [
    "print(num4)"
   ]
  },
  {
   "cell_type": "markdown",
   "id": "6627ebd0-113b-4610-adbd-856d3b92e759",
   "metadata": {},
   "source": [
    "# Day 2"
   ]
  },
  {
   "cell_type": "markdown",
   "id": "04637270-436c-47ad-800f-944875a2cd08",
   "metadata": {},
   "source": [
    "### input"
   ]
  },
  {
   "cell_type": "code",
   "execution_count": 20,
   "id": "20154fa8-34e5-4e4b-8bfb-b5a40f222cce",
   "metadata": {},
   "outputs": [
    {
     "name": "stdin",
     "output_type": "stream",
     "text": [
      "write your marks:  12\n"
     ]
    }
   ],
   "source": [
    "marks = input('write your marks: ')"
   ]
  },
  {
   "cell_type": "code",
   "execution_count": 21,
   "id": "1bec3d48-0499-4c14-855c-7572ba993fb8",
   "metadata": {},
   "outputs": [
    {
     "data": {
      "text/plain": [
       "'12'"
      ]
     },
     "execution_count": 21,
     "metadata": {},
     "output_type": "execute_result"
    }
   ],
   "source": [
    "marks"
   ]
  },
  {
   "cell_type": "code",
   "execution_count": 22,
   "id": "31a428c9-0bc7-48b1-a4a0-932864c75d93",
   "metadata": {},
   "outputs": [
    {
     "data": {
      "text/plain": [
       "str"
      ]
     },
     "execution_count": 22,
     "metadata": {},
     "output_type": "execute_result"
    }
   ],
   "source": [
    "type(marks)"
   ]
  },
  {
   "cell_type": "code",
   "execution_count": 23,
   "id": "a6436e9e-2c01-4778-ae27-2f9c06a1c158",
   "metadata": {},
   "outputs": [],
   "source": [
    "marks_2 = int(marks)"
   ]
  },
  {
   "cell_type": "code",
   "execution_count": 24,
   "id": "53a61688-f038-42b2-91c4-10ebc9ae1f18",
   "metadata": {},
   "outputs": [
    {
     "data": {
      "text/plain": [
       "int"
      ]
     },
     "execution_count": 24,
     "metadata": {},
     "output_type": "execute_result"
    }
   ],
   "source": [
    "type(marks_2)"
   ]
  },
  {
   "cell_type": "code",
   "execution_count": null,
   "id": "1b91992f-6a7a-47ef-abf0-76d2d2f48f24",
   "metadata": {},
   "outputs": [],
   "source": [
    "marks = int(input('write your marks: '))"
   ]
  },
  {
   "cell_type": "code",
   "execution_count": 25,
   "id": "3a89781f-b348-4cc1-b5e3-424442d90372",
   "metadata": {},
   "outputs": [
    {
     "name": "stdin",
     "output_type": "stream",
     "text": [
      "write your age:  23\n"
     ]
    }
   ],
   "source": [
    "age = int(input('write your age: '))"
   ]
  },
  {
   "cell_type": "code",
   "execution_count": 26,
   "id": "3477f1df-a7ce-4073-aa4e-072c74a5e03e",
   "metadata": {},
   "outputs": [
    {
     "data": {
      "text/plain": [
       "int"
      ]
     },
     "execution_count": 26,
     "metadata": {},
     "output_type": "execute_result"
    }
   ],
   "source": [
    "type(age)"
   ]
  },
  {
   "cell_type": "code",
   "execution_count": null,
   "id": "10afb88b-3ff8-4ee5-bdd2-904b4b081e43",
   "metadata": {},
   "outputs": [],
   "source": []
  },
  {
   "cell_type": "code",
   "execution_count": null,
   "id": "446175f3-bed1-41f3-b7f4-5253eb9806c8",
   "metadata": {},
   "outputs": [],
   "source": []
  },
  {
   "cell_type": "code",
   "execution_count": null,
   "id": "b2fa5ee3-6231-4332-a66e-8d78517af4d1",
   "metadata": {},
   "outputs": [],
   "source": []
  },
  {
   "cell_type": "code",
   "execution_count": 1,
   "id": "0af6fc46-b098-40fe-8d0a-d6cc1591b0c5",
   "metadata": {},
   "outputs": [],
   "source": [
    "# conditional statements\n",
    "\n",
    "# if                 (only one condition)\n",
    "# else-if            (two conditions)\n",
    "# if-else-if         (multiple conditions)"
   ]
  },
  {
   "cell_type": "markdown",
   "id": "8321963e-2b9d-4c5f-8429-4eb92ae3d9d2",
   "metadata": {},
   "source": [
    "### if statements"
   ]
  },
  {
   "cell_type": "code",
   "execution_count": 41,
   "id": "8ad841d6-d036-40de-ac07-24657ab889f1",
   "metadata": {},
   "outputs": [
    {
     "name": "stdout",
     "output_type": "stream",
     "text": [
      "Well done\n",
      "Congratulations\n"
     ]
    }
   ],
   "source": [
    "marks = 63\n",
    "\n",
    "if marks > 50:\n",
    "    print('Well done')\n",
    "    print('Congratulations')\n"
   ]
  },
  {
   "cell_type": "code",
   "execution_count": 6,
   "id": "440bc169-37da-4c3a-8fd9-8eb150452518",
   "metadata": {},
   "outputs": [
    {
     "data": {
      "text/plain": [
       "True"
      ]
     },
     "execution_count": 6,
     "metadata": {},
     "output_type": "execute_result"
    }
   ],
   "source": [
    "79 > 50"
   ]
  },
  {
   "cell_type": "code",
   "execution_count": 3,
   "id": "a198cc3d-f038-49e2-8e18-1a91da09c4fd",
   "metadata": {},
   "outputs": [
    {
     "data": {
      "text/plain": [
       "False"
      ]
     },
     "execution_count": 3,
     "metadata": {},
     "output_type": "execute_result"
    }
   ],
   "source": [
    "(5 < 2)"
   ]
  },
  {
   "cell_type": "code",
   "execution_count": 11,
   "id": "2a81ac87-a914-4bed-b1a7-ba94adafadc9",
   "metadata": {},
   "outputs": [
    {
     "data": {
      "text/plain": [
       "False"
      ]
     },
     "execution_count": 11,
     "metadata": {},
     "output_type": "execute_result"
    }
   ],
   "source": [
    "4 < 4"
   ]
  },
  {
   "cell_type": "code",
   "execution_count": 12,
   "id": "7cb3f660-d27b-4f2e-a255-d4120daddb0f",
   "metadata": {},
   "outputs": [
    {
     "data": {
      "text/plain": [
       "False"
      ]
     },
     "execution_count": 12,
     "metadata": {},
     "output_type": "execute_result"
    }
   ],
   "source": [
    "4 > 4"
   ]
  },
  {
   "cell_type": "code",
   "execution_count": 14,
   "id": "d5c0036b-94fe-4e3b-bf81-6b262dfed6db",
   "metadata": {},
   "outputs": [
    {
     "data": {
      "text/plain": [
       "True"
      ]
     },
     "execution_count": 14,
     "metadata": {},
     "output_type": "execute_result"
    }
   ],
   "source": [
    "4 == 4"
   ]
  },
  {
   "cell_type": "code",
   "execution_count": 15,
   "id": "a4024008-668f-490e-afc2-905d42025a6b",
   "metadata": {},
   "outputs": [
    {
     "data": {
      "text/plain": [
       "True"
      ]
     },
     "execution_count": 15,
     "metadata": {},
     "output_type": "execute_result"
    }
   ],
   "source": [
    "4 >= 4"
   ]
  },
  {
   "cell_type": "code",
   "execution_count": 16,
   "id": "4bb1b6ee-65ed-4347-940f-8b074314fb6b",
   "metadata": {},
   "outputs": [
    {
     "data": {
      "text/plain": [
       "True"
      ]
     },
     "execution_count": 16,
     "metadata": {},
     "output_type": "execute_result"
    }
   ],
   "source": [
    "4 <= 4"
   ]
  },
  {
   "cell_type": "markdown",
   "id": "8d028be9-953e-4a6b-9206-e9b25570ebf4",
   "metadata": {},
   "source": [
    "### if else statement"
   ]
  },
  {
   "cell_type": "code",
   "execution_count": 38,
   "id": "fb602bb6-203c-4624-b31a-9a24b451106a",
   "metadata": {},
   "outputs": [
    {
     "name": "stdin",
     "output_type": "stream",
     "text": [
      "write your marks:  50\n"
     ]
    },
    {
     "name": "stdout",
     "output_type": "stream",
     "text": [
      "You have passed the exam\n",
      "Okay bye\n"
     ]
    }
   ],
   "source": [
    "marks = int(input('write your marks: '))\n",
    "\n",
    "if marks >= 50:\n",
    "    print('You have passed the exam')\n",
    "\n",
    "else:\n",
    "    print('You have failed the exam')\n",
    "\n",
    "print('Okay bye')     # this statement will run in every condition."
   ]
  },
  {
   "cell_type": "code",
   "execution_count": 33,
   "id": "fe18fb40-85bf-4f4c-b477-b416b054d9d6",
   "metadata": {},
   "outputs": [
    {
     "name": "stdout",
     "output_type": "stream",
     "text": [
      "he's is great man\n"
     ]
    }
   ],
   "source": [
    "print(\"he's is great man\")"
   ]
  },
  {
   "cell_type": "code",
   "execution_count": 35,
   "id": "da7a235f-afa8-4a53-a340-159fdc740c95",
   "metadata": {},
   "outputs": [
    {
     "name": "stdout",
     "output_type": "stream",
     "text": [
      "he\"s a great man\n"
     ]
    }
   ],
   "source": [
    "print('he\"s a great man')"
   ]
  },
  {
   "cell_type": "markdown",
   "id": "c05dee26-8be1-4039-82d4-e4bd9bfa4f91",
   "metadata": {},
   "source": [
    "### if-else-if     elif"
   ]
  },
  {
   "cell_type": "code",
   "execution_count": 50,
   "id": "73cfc122-49c0-4f18-8671-c7ebcd93440d",
   "metadata": {},
   "outputs": [
    {
     "name": "stdin",
     "output_type": "stream",
     "text": [
      "traffic signal color (type R, G, Y):  r\n"
     ]
    },
    {
     "name": "stdout",
     "output_type": "stream",
     "text": [
      "\n",
      "STOP\n"
     ]
    }
   ],
   "source": [
    "trafic = input('traffic signal color (type R, G, Y): ')\n",
    "\n",
    "print('')\n",
    "\n",
    "if trafic == 'R' or trafic == 'r':\n",
    "    print('STOP')\n",
    "\n",
    "elif trafic == 'Y':\n",
    "    print('READY TO GO')\n",
    "\n",
    "elif trafic == 'G':\n",
    "    print('GO')\n",
    "\n",
    "else:\n",
    "    print('ENTER A VALID VALUE')"
   ]
  },
  {
   "cell_type": "code",
   "execution_count": 51,
   "id": "672374ee-e75c-4cc3-9dd0-0298d492400f",
   "metadata": {},
   "outputs": [
    {
     "name": "stdin",
     "output_type": "stream",
     "text": [
      "number:  3\n"
     ]
    }
   ],
   "source": [
    "inp = float(input('number: '))"
   ]
  },
  {
   "cell_type": "code",
   "execution_count": 52,
   "id": "d57aede0-8388-4fc8-b3e9-26a497950f10",
   "metadata": {},
   "outputs": [
    {
     "data": {
      "text/plain": [
       "float"
      ]
     },
     "execution_count": 52,
     "metadata": {},
     "output_type": "execute_result"
    }
   ],
   "source": [
    "type(inp)"
   ]
  },
  {
   "cell_type": "code",
   "execution_count": 53,
   "id": "76703141-f15b-462a-b9b3-bad165630263",
   "metadata": {},
   "outputs": [
    {
     "name": "stdout",
     "output_type": "stream",
     "text": [
      "3.0\n"
     ]
    }
   ],
   "source": [
    "print(inp)"
   ]
  },
  {
   "cell_type": "code",
   "execution_count": null,
   "id": "f93e9f12-13dd-4be0-a903-aa952c212a3f",
   "metadata": {},
   "outputs": [],
   "source": []
  }
 ],
 "metadata": {
  "kernelspec": {
   "display_name": "Python 3 (ipykernel)",
   "language": "python",
   "name": "python3"
  },
  "language_info": {
   "codemirror_mode": {
    "name": "ipython",
    "version": 3
   },
   "file_extension": ".py",
   "mimetype": "text/x-python",
   "name": "python",
   "nbconvert_exporter": "python",
   "pygments_lexer": "ipython3",
   "version": "3.12.4"
  }
 },
 "nbformat": 4,
 "nbformat_minor": 5
}
