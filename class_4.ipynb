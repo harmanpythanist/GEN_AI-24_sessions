{
 "cells": [
  {
   "cell_type": "code",
   "execution_count": 2,
   "id": "7b66245a-550d-4681-ba0c-6632675701c0",
   "metadata": {},
   "outputs": [],
   "source": [
    "from nltk.tokenize import word_tokenize, sent_tokenize"
   ]
  },
  {
   "cell_type": "code",
   "execution_count": 3,
   "id": "664145c7-9b7c-4426-9a2f-e16ff4c9f01f",
   "metadata": {},
   "outputs": [
    {
     "name": "stdout",
     "output_type": "stream",
     "text": [
      "['Lahore', 'looks', 'aesthetic', 'in', 'smog', '.', 'It', 'does', 'not', 'mean', 'that', 'it', 'is', 'good', 'for', 'us', '.']\n"
     ]
    }
   ],
   "source": [
    "text = \"Lahore looks aesthetic in smog. It does not mean that it is good for us.\"\n",
    "\n",
    "words = word_tokenize(text)\n",
    "print(words)\n"
   ]
  },
  {
   "cell_type": "code",
   "execution_count": 6,
   "id": "4f5de1d2-3a9d-4409-800c-9dde25be7fbb",
   "metadata": {},
   "outputs": [
    {
     "name": "stdout",
     "output_type": "stream",
     "text": [
      "Lahore looks aesthetic in smog.\n",
      "It does not mean that it is good for us.\n"
     ]
    }
   ],
   "source": [
    "# sentence tokenization\n",
    "sentences = sent_tokenize(text)\n",
    "print(sentences[0])\n",
    "print(sentences[1])"
   ]
  },
  {
   "cell_type": "markdown",
   "id": "c9f1374d-3a1d-4baf-b787-edb600fb8ece",
   "metadata": {},
   "source": [
    "## stemming"
   ]
  },
  {
   "cell_type": "code",
   "execution_count": 7,
   "id": "bb548504-4089-4138-bdee-e8fb9a11cdcb",
   "metadata": {},
   "outputs": [],
   "source": [
    "from nltk.stem import PorterStemmer\n",
    "\n",
    "stemmer = PorterStemmer()"
   ]
  },
  {
   "cell_type": "code",
   "execution_count": 9,
   "id": "27531dab-1484-487d-b729-ef695f8e3dba",
   "metadata": {},
   "outputs": [
    {
     "name": "stdout",
     "output_type": "stream",
     "text": [
      "Stemmed Words: work\n"
     ]
    }
   ],
   "source": [
    "# Words to stem\n",
    "word = 'working'\n",
    "\n",
    "stemmed_words = stemmer.stem(word)\n",
    "print(\"Stemmed Words:\", stemmed_words)"
   ]
  },
  {
   "cell_type": "code",
   "execution_count": null,
   "id": "d22fc4a1-765c-4804-baf9-cb88e011d5fc",
   "metadata": {},
   "outputs": [],
   "source": []
  },
  {
   "cell_type": "markdown",
   "id": "9d9028fa-776f-4b59-9c0e-d662dc64f1f3",
   "metadata": {},
   "source": [
    "## NLP"
   ]
  },
  {
   "cell_type": "code",
   "execution_count": 11,
   "id": "205bace1-2f1f-4328-8bbe-cfc39c762bd7",
   "metadata": {},
   "outputs": [],
   "source": [
    "import re"
   ]
  },
  {
   "cell_type": "code",
   "execution_count": 23,
   "id": "dbd0fc80-80cd-45b8-aa62-afa26c294eda",
   "metadata": {},
   "outputs": [],
   "source": [
    "a = 'my name is harman'\n",
    "\n",
    "b = re.search(\"my\", a)"
   ]
  },
  {
   "cell_type": "code",
   "execution_count": 29,
   "id": "3715bd1a-08fd-4233-9d04-c2b2b3421fb1",
   "metadata": {},
   "outputs": [
    {
     "data": {
      "text/plain": [
       "'my'"
      ]
     },
     "execution_count": 29,
     "metadata": {},
     "output_type": "execute_result"
    }
   ],
   "source": [
    "a[0:2]"
   ]
  },
  {
   "cell_type": "code",
   "execution_count": 25,
   "id": "d4a3905c-e7d2-4b30-9b9e-87fc7f7d5b7f",
   "metadata": {},
   "outputs": [
    {
     "name": "stdout",
     "output_type": "stream",
     "text": [
      "<re.Match object; span=(0, 2), match='my'>\n"
     ]
    }
   ],
   "source": [
    "print(b)"
   ]
  },
  {
   "cell_type": "code",
   "execution_count": 31,
   "id": "c47314f7-a011-47fc-b862-44e20949dd21",
   "metadata": {},
   "outputs": [
    {
     "name": "stdout",
     "output_type": "stream",
     "text": [
      "['2', '3']\n"
     ]
    }
   ],
   "source": [
    "pattern = r\"\\d+\"  \n",
    "\n",
    "string = \"I have 2 apples and 3 oranges.\"\n",
    "\n",
    "matches = re.findall(pattern, string)\n",
    "\n",
    "print(matches)  "
   ]
  },
  {
   "cell_type": "code",
   "execution_count": 32,
   "id": "143f11d5-0778-4d5c-8452-241e58d9f69f",
   "metadata": {},
   "outputs": [
    {
     "name": "stdout",
     "output_type": "stream",
     "text": [
      "Matches: ['Python', 'PYTHON']\n"
     ]
    }
   ],
   "source": [
    "sentence = \"Python is fun. I enjoy learning PYTHON.\"\n",
    "pattern = r\"python\" \n",
    "\n",
    "matches = re.findall(pattern, sentence, re.IGNORECASE)\n",
    "print(\"Matches:\", matches)  "
   ]
  },
  {
   "cell_type": "code",
   "execution_count": 59,
   "id": "77fe2d7b-d0c9-43e7-b42a-c1340da2c8aa",
   "metadata": {},
   "outputs": [
    {
     "data": {
      "text/plain": [
       "<re.Match object; span=(11, 17), match='harman'>"
      ]
     },
     "execution_count": 59,
     "metadata": {},
     "output_type": "execute_result"
    }
   ],
   "source": [
    "a = 'my name is harman'\n",
    "\n",
    "re.search('harman', a)"
   ]
  },
  {
   "cell_type": "markdown",
   "id": "d3b74427-965f-44b3-ad4f-c26a43696f7d",
   "metadata": {},
   "source": [
    "## Bag of words"
   ]
  },
  {
   "cell_type": "code",
   "execution_count": 33,
   "id": "f432f173-7c6c-4bcb-bca8-fbe0d72e41db",
   "metadata": {},
   "outputs": [
    {
     "name": "stdout",
     "output_type": "stream",
     "text": [
      "[[0 0 1 0 1 1 1 0 0]\n",
      " [1 1 0 1 0 0 0 1 1]]\n"
     ]
    }
   ],
   "source": [
    "from sklearn.feature_extraction.text import CountVectorizer\n",
    "\n",
    "\n",
    "documents = [\"Harman like Python programming\", \"We are studying in class\"]\n",
    "\n",
    "\n",
    "vectorizer = CountVectorizer()\n",
    "\n",
    "\n",
    "X = vectorizer.fit_transform(documents)\n",
    "\n",
    "print(X.toarray())\n"
   ]
  },
  {
   "cell_type": "code",
   "execution_count": 34,
   "id": "51d1d3ee-9049-4dec-9729-22248a3fd28f",
   "metadata": {},
   "outputs": [
    {
     "data": {
      "text/plain": [
       "<2x9 sparse matrix of type '<class 'numpy.int64'>'\n",
       "\twith 9 stored elements in Compressed Sparse Row format>"
      ]
     },
     "execution_count": 34,
     "metadata": {},
     "output_type": "execute_result"
    }
   ],
   "source": [
    "X"
   ]
  },
  {
   "cell_type": "code",
   "execution_count": null,
   "id": "381489f1-44ac-46e5-a6aa-bab4e9bdd65f",
   "metadata": {},
   "outputs": [],
   "source": []
  }
 ],
 "metadata": {
  "kernelspec": {
   "display_name": "Python 3 (ipykernel)",
   "language": "python",
   "name": "python3"
  },
  "language_info": {
   "codemirror_mode": {
    "name": "ipython",
    "version": 3
   },
   "file_extension": ".py",
   "mimetype": "text/x-python",
   "name": "python",
   "nbconvert_exporter": "python",
   "pygments_lexer": "ipython3",
   "version": "3.12.4"
  }
 },
 "nbformat": 4,
 "nbformat_minor": 5
}
