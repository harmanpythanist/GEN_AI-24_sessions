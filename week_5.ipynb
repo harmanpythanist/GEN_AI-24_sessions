{
 "cells": [
  {
   "cell_type": "code",
   "execution_count": 1,
   "id": "7591156d-0826-477b-9670-fdf13510af4a",
   "metadata": {},
   "outputs": [],
   "source": [
    "# A little bit web dev"
   ]
  },
  {
   "cell_type": "code",
   "execution_count": null,
   "id": "e8067abd-ddc6-4cb9-ad07-ee7300d815b9",
   "metadata": {},
   "outputs": [],
   "source": []
  }
 ],
 "metadata": {
  "kernelspec": {
   "display_name": "Python 3 (ipykernel)",
   "language": "python",
   "name": "python3"
  },
  "language_info": {
   "codemirror_mode": {
    "name": "ipython",
    "version": 3
   },
   "file_extension": ".py",
   "mimetype": "text/x-python",
   "name": "python",
   "nbconvert_exporter": "python",
   "pygments_lexer": "ipython3",
   "version": "3.12.4"
  }
 },
 "nbformat": 4,
 "nbformat_minor": 5
}
